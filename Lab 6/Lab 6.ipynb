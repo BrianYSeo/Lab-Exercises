{
 "cells": [
  {
   "cell_type": "code",
   "execution_count": 83,
   "id": "92a2a67a",
   "metadata": {},
   "outputs": [],
   "source": [
    "from selenium import webdriver\n",
    "from selenium.webdriver.chrome.service import Service\n",
    "from selenium.webdriver.common.keys import Keys\n",
    "from selenium.webdriver.common.by import By\n",
    "from selenium.webdriver.support.ui import WebDriverWait\n",
    "from selenium.webdriver.support import expected_conditions as EC\n",
    "from selenium.webdriver.common.action_chains import ActionChains\n",
    "import csv\n",
    "import time\n",
    "import pandas as pd"
   ]
  },
  {
   "cell_type": "code",
   "execution_count": null,
   "id": "dbd08224",
   "metadata": {
    "scrolled": true
   },
   "outputs": [
    {
     "name": "stdout",
     "output_type": "stream",
     "text": [
      "Animal Control Officer       Full Time       Open Until Filled       $45,228.00 per Year       \n",
      "Assistant Engineer       Full Time       Open Until Filled       $38,127 - $45,062 per Year       \n",
      "Building Inspector II       Full Time       Open Until Filled       $42,436 per Year       \n",
      "City Engineer       Full Time       Open Until Filled       Not Specified       \n",
      "Code Inspector       Full Time       Open Until Filled       $33,632 per Year*       \n",
      "Commissioner of Public Works       Full Time       Open Until Filled       Not Specified       \n",
      "Crossing Guard       Part Time       Open Until Filled       $43.75 per Day       \n",
      "Director of Police Department Community Outreach and Recruitment       Full Time       Open Until Filled       $66,950.00 per Year       \n",
      "First Deputy Commissioner of Public Works       Full Time       Open Until Filled       $61,730.00 per Year       \n",
      "Laboratory Technician (Sanitary Services)       Full Time       Open Until Filled       $29,406.00 per Year       \n",
      "Staff Accountant       Full Time       Open Until Filled       Up to $59,000 per Year       \n",
      "Street Maintainer       "
     ]
    }
   ],
   "source": [
    "PATH = Service(\"/Users/brianseo/Downloads/chromedriver.exe\")\n",
    "driver = webdriver.Chrome(service=PATH)\n",
    "\n",
    "\n",
    "driver.get(\"https://www.binghamton-ny.gov/home\")\n",
    "\n",
    "click_xpath = \"//*[@id='dropdownrootitem3']/a\"\n",
    "link = WebDriverWait(driver, 10).until(EC.element_to_be_clickable((By.XPATH, click_xpath)))\n",
    "link.click()\n",
    "\n",
    "click_xpath = \"//*[@id='dropdownrootitem3']/div/div/ul[1]/li/a\"\n",
    "link = WebDriverWait(driver, 10).until(EC.element_to_be_clickable((By.XPATH, click_xpath)))\n",
    "link.click()\n",
    "\n",
    "try:\n",
    "    click_xpath = \"//*[@id='leftNav_2_0_127']/ul/li/ul/li[14]/a[1]\"\n",
    "    link = WebDriverWait(driver, 10).until(EC.element_to_be_clickable((By.XPATH, click_xpath)))\n",
    "    link.click()\n",
    "        \n",
    "    click_xpath = \"//*[@id='leftNav_1038_0_145']/ul/li/ul/li[14]/ul/li/a\"\n",
    "    link = WebDriverWait(driver, 10).until(EC.element_to_be_clickable((By.XPATH, click_xpath)))\n",
    "    link.click()\n",
    "\n",
    "    rows=1+len(driver.find_elements(By.XPATH,\"//*[@id='ColumnUserControl4']/div[2]/table/tbody/tr\"))\n",
    "    \n",
    "    cols=len(driver.find_elements(By.XPATH,\"//*[@id='ColumnUserControl4']/div[2]/table/tbody/tr[1]/td\"))\n",
    "    \n",
    "    with open('output.csv', 'w', newline='') as file:\n",
    "        writer = csv.writer(file)\n",
    "\n",
    "        for r in range(1, rows):\n",
    "            job_openings = []\n",
    "            for p in range(1, cols+1):\n",
    "                time.sleep(3)\n",
    "                value = driver.find_element(By.XPATH,\"//*[@id='ColumnUserControl4']/div[2]/table/tbody/tr[\"+str(r)+\"]/td[\"+str(p)+\"]\")\n",
    "                job_openings.append(value.text)\n",
    "                print(value.text, end='       ')\n",
    "                \n",
    "            writer.writerow(job_openings)\n",
    "            print()\n",
    "        \n",
    "finally:\n",
    "    driver.quit()"
   ]
  },
  {
   "cell_type": "code",
   "execution_count": null,
   "id": "a5b5b0f0",
   "metadata": {},
   "outputs": [],
   "source": [
    "jo = pd.read_csv('job openings.csv')\n",
    "\n",
    "print(jo) "
   ]
  }
 ],
 "metadata": {
  "kernelspec": {
   "display_name": "Python 3 (ipykernel)",
   "language": "python",
   "name": "python3"
  },
  "language_info": {
   "codemirror_mode": {
    "name": "ipython",
    "version": 3
   },
   "file_extension": ".py",
   "mimetype": "text/x-python",
   "name": "python",
   "nbconvert_exporter": "python",
   "pygments_lexer": "ipython3",
   "version": "3.9.13"
  }
 },
 "nbformat": 4,
 "nbformat_minor": 5
}
