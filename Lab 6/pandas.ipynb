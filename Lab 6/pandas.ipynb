{
 "cells": [
  {
   "cell_type": "code",
   "execution_count": 1,
   "id": "4ff373e5",
   "metadata": {},
   "outputs": [],
   "source": [
    "import pandas as pd"
   ]
  },
  {
   "cell_type": "code",
   "execution_count": 2,
   "id": "e31b78a6",
   "metadata": {},
   "outputs": [
    {
     "name": "stdout",
     "output_type": "stream",
     "text": [
      "                               Animal Control Officer  Full Time  \\\n",
      "0                                  Assistant Engineer  Full Time   \n",
      "1                               Building Inspector II  Full Time   \n",
      "2                                       City Engineer  Full Time   \n",
      "3                                      Code Inspector  Full Time   \n",
      "4                        Commissioner of Public Works  Full Time   \n",
      "5                                      Crossing Guard  Part Time   \n",
      "6   Director of Police Department Community Outrea...  Full Time   \n",
      "7           First Deputy Commissioner of Public Works  Full Time   \n",
      "8           Laboratory Technician (Sanitary Services)  Full Time   \n",
      "9                                    Staff Accountant  Full Time   \n",
      "10                                  Street Maintainer  Full Time   \n",
      "11                   Water & Sewer Systems Maintainer  Full Time   \n",
      "12                               Water Meter Repairer  Full Time   \n",
      "\n",
      "    Open Until Filled         $45,228.00 per Year  \n",
      "0   Open Until Filled  $38,127 - $45,062 per Year  \n",
      "1   Open Until Filled            $42,436 per Year  \n",
      "2   Open Until Filled               Not Specified  \n",
      "3   Open Until Filled           $33,632 per Year*  \n",
      "4   Open Until Filled               Not Specified  \n",
      "5   Open Until Filled              $43.75 per Day  \n",
      "6   Open Until Filled         $66,950.00 per Year  \n",
      "7   Open Until Filled         $61,730.00 per Year  \n",
      "8   Open Until Filled         $29,406.00 per Year  \n",
      "9   Open Until Filled      Up to $59,000 per Year  \n",
      "10  Open Until Filled             $18.36 Per Hour  \n",
      "11  Open Until Filled             $20.71 per Hour  \n",
      "12  Open Until Filled             $19.11 per Hour  \n"
     ]
    }
   ],
   "source": [
    "jo = pd.read_csv('job_openings.csv')\n",
    "\n",
    "print(jo)"
   ]
  },
  {
   "cell_type": "code",
   "execution_count": null,
   "id": "3e0aacd7",
   "metadata": {},
   "outputs": [],
   "source": []
  }
 ],
 "metadata": {
  "kernelspec": {
   "display_name": "Python 3 (ipykernel)",
   "language": "python",
   "name": "python3"
  },
  "language_info": {
   "codemirror_mode": {
    "name": "ipython",
    "version": 3
   },
   "file_extension": ".py",
   "mimetype": "text/x-python",
   "name": "python",
   "nbconvert_exporter": "python",
   "pygments_lexer": "ipython3",
   "version": "3.9.13"
  }
 },
 "nbformat": 4,
 "nbformat_minor": 5
}
