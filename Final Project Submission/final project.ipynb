{
 "cells": [
  {
   "cell_type": "code",
   "execution_count": 1,
   "id": "7a84479c",
   "metadata": {},
   "outputs": [],
   "source": [
    "import random\n",
    "import spotipy\n",
    "from spotipy.oauth2 import SpotifyOAuth"
   ]
  },
  {
   "cell_type": "code",
   "execution_count": 2,
   "id": "ee61fa0c",
   "metadata": {},
   "outputs": [],
   "source": [
    "SPOTIPY_CLIENT_ID = \"dea2513de64b4cc5bac82f87532c47ef\" \n",
    "SPOTIPY_CLIENT_SECRET = \"e0097f1ec8b144c5bf20d33bfbfd0bfa\"\n",
    "SPOTIPY_REDIRECT_URI = \"http://localhost3000\"\n",
    "code = \"AQDsJypTNSxvuq4OZkyMcIVn_7hq8ixskP2fV_159JcvELOh2WeuvLApPp2yvvFS-q17wDSFZbF1IJ8vtCczwkFk9gOGt-7P8Tjnq3TEG0PeIwaw5rgeOQ0gb90FGF0sRWIxniOgN5Ke1jnqfl1E3JtBqJI6XfrVrJBvmDp6QTTnjgyQOIfzpj8FCg\""
   ]
  },
  {
   "cell_type": "code",
   "execution_count": 3,
   "id": "095054a6",
   "metadata": {},
   "outputs": [
    {
     "name": "stdout",
     "output_type": "stream",
     "text": [
      "Would you like to make a playlist out of artist or genre?\n",
      "artist\n",
      "Which artist?\n",
      "kanye west\n",
      "playlist created\n"
     ]
    }
   ],
   "source": [
    "def Make_User_Playlist():\n",
    "    scope = \"playlist-modify-public\"\n",
    "    sp = spotipy.Spotify(auth_manager=SpotifyOAuth(SPOTIPY_CLIENT_ID, SPOTIPY_CLIENT_SECRET, SPOTIPY_REDIRECT_URI, scope=scope))\n",
    "    num_tracks = 10\n",
    "    playlist_name = 'Random Generated User Specific Playlist'\n",
    "\n",
    "    random_tracks = get_random_kanye_tracks(num_tracks)\n",
    "    playlist_id = create_playlist(playlist_name)\n",
    "    track_ids = [track['id'] for track in random_tracks]\n",
    "    add_tracks_to_playlist(playlist_id, track_ids)\n",
    "\n",
    "def get_random_user_artist_tracks(num_tracks, artist):\n",
    "    choosenArtist = 'artist:' + artist;\n",
    "    results = sp.search(q=choosenArtist, type='track', limit=50)\n",
    "    tracks = results['tracks']['items']\n",
    "    random_tracks = random.sample(tracks, num_tracks)\n",
    "    return random_tracks\n",
    "\n",
    "def get_random_user_genre_tracks(num_tracks, genre):\n",
    "    choosenGenre = 'genre:' + genre;\n",
    "    results = sp.search(q=choosenGenre, type='track', limit=50)\n",
    "    tracks = results['tracks']['items']\n",
    "    random_tracks = random.sample(tracks, num_tracks)\n",
    "    return random_tracks\n",
    "\n",
    "def create_playlist_name(name):\n",
    "    user_id = sp.me()['id']\n",
    "    playlist = sp.user_playlist_create(user_id, name)\n",
    "    return playlist['id']\n",
    "\n",
    "def add_tracks_to_playlist(playlist_id, track_ids):\n",
    "    sp.user_playlist_add_tracks(sp.me()['id'], playlist_id, track_ids)\n",
    "\n",
    "def create_playlist(artistOrGenre, x):\n",
    "    if (x == 0):\n",
    "        random_tracks = get_random_user_artist_tracks(num_tracks, artistOrGenre)\n",
    "        playlist_name = 'Randomly Generated ' + artistOrGenre + ' Playlist'\n",
    "    elif (x == 1):\n",
    "        random_tracks = get_random_user_genre_tracks(num_tracks, artistOrGenre)\n",
    "        playlist_name = 'Randomly Generated ' + artistOrGenre + ' Playlist'\\\n",
    "\n",
    "    playlist_id = create_playlist_name(playlist_name)\n",
    "    track_ids = [track['id'] for track in random_tracks]\n",
    "    add_tracks_to_playlist(playlist_id, track_ids)\n",
    "    print(\"playlist created\")\n",
    "\n",
    "                \n",
    "scope = \"playlist-modify-public\"\n",
    "sp = spotipy.Spotify(auth_manager=SpotifyOAuth(SPOTIPY_CLIENT_ID, SPOTIPY_CLIENT_SECRET, SPOTIPY_REDIRECT_URI, scope=scope))\n",
    "num_tracks = 10\n",
    "\n",
    "print(\"Would you like to make a playlist out of artist or genre?\")\n",
    "answer = input()\n",
    "if(answer == 'Artist' or answer == 'artist'):\n",
    "    print(\"Which artist?\")\n",
    "    song_artist = input()\n",
    "    create_playlist(song_artist, 0)\n",
    "elif (answer == 'Genre' or answer =='genre'):\n",
    "    print(\"What genre?\")\n",
    "    song_genre = input()\n",
    "    create_playlist(song_genre, 1)\n",
    "else:\n",
    "    print(\"Your input is invalid, please try again\")\n"
   ]
  },
  {
   "cell_type": "code",
   "execution_count": null,
   "id": "b50a8ac8",
   "metadata": {},
   "outputs": [],
   "source": []
  }
 ],
 "metadata": {
  "kernelspec": {
   "display_name": "Python 3 (ipykernel)",
   "language": "python",
   "name": "python3"
  },
  "language_info": {
   "codemirror_mode": {
    "name": "ipython",
    "version": 3
   },
   "file_extension": ".py",
   "mimetype": "text/x-python",
   "name": "python",
   "nbconvert_exporter": "python",
   "pygments_lexer": "ipython3",
   "version": "3.9.13"
  }
 },
 "nbformat": 4,
 "nbformat_minor": 5
}
