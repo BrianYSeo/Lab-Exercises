{
 "cells": [
  {
   "cell_type": "code",
   "execution_count": 5,
   "id": "bc05ed90",
   "metadata": {},
   "outputs": [
    {
     "name": "stdout",
     "output_type": "stream",
     "text": [
      "Requirement already satisfied: spotipy in /Users/brianseo/opt/anaconda3/lib/python3.9/site-packages (2.23.0)\n",
      "Requirement already satisfied: redis>=3.5.3 in /Users/brianseo/opt/anaconda3/lib/python3.9/site-packages (from spotipy) (4.5.4)\n",
      "Requirement already satisfied: requests>=2.25.0 in /Users/brianseo/opt/anaconda3/lib/python3.9/site-packages (from spotipy) (2.28.1)\n",
      "Requirement already satisfied: urllib3>=1.26.0 in /Users/brianseo/opt/anaconda3/lib/python3.9/site-packages (from spotipy) (1.26.11)\n",
      "Requirement already satisfied: six>=1.15.0 in /Users/brianseo/opt/anaconda3/lib/python3.9/site-packages (from spotipy) (1.16.0)\n",
      "Requirement already satisfied: async-timeout>=4.0.2 in /Users/brianseo/opt/anaconda3/lib/python3.9/site-packages (from redis>=3.5.3->spotipy) (4.0.2)\n",
      "Requirement already satisfied: idna<4,>=2.5 in /Users/brianseo/opt/anaconda3/lib/python3.9/site-packages (from requests>=2.25.0->spotipy) (3.3)\n",
      "Requirement already satisfied: charset-normalizer<3,>=2 in /Users/brianseo/opt/anaconda3/lib/python3.9/site-packages (from requests>=2.25.0->spotipy) (2.0.4)\n",
      "Requirement already satisfied: certifi>=2017.4.17 in /Users/brianseo/opt/anaconda3/lib/python3.9/site-packages (from requests>=2.25.0->spotipy) (2022.9.24)\n",
      "Note: you may need to restart the kernel to use updated packages.\n"
     ]
    }
   ],
   "source": [
    "pip install spotipy"
   ]
  },
  {
   "cell_type": "code",
   "execution_count": 1,
   "id": "4e12643a",
   "metadata": {},
   "outputs": [],
   "source": [
    "import spotipy\n",
    "from spotipy.oauth2 import SpotifyOAuth"
   ]
  },
  {
   "cell_type": "code",
   "execution_count": 2,
   "id": "ea26ba04",
   "metadata": {},
   "outputs": [
    {
     "name": "stdout",
     "output_type": "stream",
     "text": [
      "0 Hiroyuki Sawano  –  Bauklotze\n",
      "1 Hiroyuki Sawano  –  Call of Silence\n",
      "2 Ichiko Aoba  –  Asleep Among Endives\n",
      "3 Shinsei Kamattechan  –  Boku no Sensou\n",
      "4 Hiroyuki Sawano  –  Attack on Titan\n",
      "5 Hiroyuki Sawano  –  Symphonicsuite (Aot) Part2-6th: Thanksat\n",
      "6 Hiroyuki Sawano  –  T-Kt\n",
      "7 Hiroyuki Sawano  –  Vogel Im Kafig\n",
      "8 Hiroyuki Sawano  –  You See Big Girl / T:T\n",
      "9 Hiroyuki Sawano  –  Apetitan\n",
      "10 Hiroyuki Sawano  –  AOTF-s1\n"
     ]
    }
   ],
   "source": [
    "SPOTIPY_CLIENT_ID = \"dea2513de64b4cc5bac82f87532c47ef\"\n",
    "SPOTIPY_CLIENT_SECRET = \"e0097f1ec8b144c5bf20d33bfbfd0bfa\"\n",
    "SPOTIPY_REDIRECT_URI = \"http://localhost3000\"\n",
    "code = \"AQDsJypTNSxvuq4OZkyMcIVn_7hq8ixskP2fV_159JcvELOh2WeuvLApPp2yvvFS-q17wDSFZbF1IJ8vtCczwkFk9gOGt-7P8Tjnq3TEG0PeIwaw5rgeOQ0gb90FGF0sRWIxniOgN5Ke1jnqfl1E3JtBqJI6XfrVrJBvmDp6QTTnjgyQOIfzpj8FCg\"\n",
    "scope = \"user-library-read\"\n",
    "\n",
    "sp = spotipy.Spotify(auth_manager=SpotifyOAuth(SPOTIPY_CLIENT_ID, SPOTIPY_CLIENT_SECRET, SPOTIPY_REDIRECT_URI, scope=scope))\n",
    "\n",
    "results = sp.current_user_saved_tracks()\n",
    "for idx, item in enumerate(results['items']):\n",
    "    track = item['track']\n",
    "    print(idx, track['artists'][0]['name'], \" – \", track['name'])"
   ]
  },
  {
   "cell_type": "code",
   "execution_count": 12,
   "id": "f7b28021",
   "metadata": {},
   "outputs": [
    {
     "name": "stdout",
     "output_type": "stream",
     "text": [
      "Kanye West\n",
      "\n",
      "Heartless\n",
      "Ni**as In Paris\n",
      "Flashing Lights\n",
      "Bound 2\n",
      "Father Stretch My Hands Pt. 1\n",
      "Stronger\n",
      "I Wonder\n",
      "Gold Digger\n",
      "Homecoming\n",
      "Violent Crimes\n",
      "\n",
      "My Beautiful Dark Twisted Fantasy\n",
      "\n",
      "Anabolic Phonk\n",
      "\n",
      "4th Dimension\n"
     ]
    }
   ],
   "source": [
    "def get_artist(artist_name):\n",
    "    results = sp.search(q='artist:' + artist_name, type='artist')\n",
    "    items = results['artists']['items']\n",
    "    if len(items) > 0:\n",
    "        return items[0]\n",
    "    else:\n",
    "        return None\n",
    "\n",
    "def get_artist_top_tracks(artist_id):\n",
    "    results = sp.artist_top_tracks(artist_id)\n",
    "    tracks = results['tracks']\n",
    "    return tracks\n",
    "\n",
    "def get_album(album_id):\n",
    "    album = sp.album(album_id)\n",
    "    return album\n",
    "\n",
    "def get_playlist(playlist_id):\n",
    "    playlist = sp.playlist(playlist_id)\n",
    "    return playlist\n",
    "\n",
    "def get_track(track_id):\n",
    "    track = sp.track(track_id)\n",
    "    return track\n",
    "\n",
    "\n",
    "artist = get_artist('Kanye West')\n",
    "print(artist['name'])\n",
    "print()\n",
    "\n",
    "top_tracks = get_artist_top_tracks(artist['id'])\n",
    "for track in top_tracks:\n",
    "    print(track['name'])\n",
    "print()\n",
    "    \n",
    "album = get_album('20r762YmB5HeofjMCiPMLv')\n",
    "print(album['name'])\n",
    "print()\n",
    "\n",
    "playlist = get_playlist('68Y9ljBoTFViH4thb9G1ET')\n",
    "print(playlist['name'])\n",
    "print()\n",
    "\n",
    "track = get_track('6JyEh4kl9DLwmSAoNDRn5b')\n",
    "print(track['name'])"
   ]
  }
 ],
 "metadata": {
  "kernelspec": {
   "display_name": "Python 3 (ipykernel)",
   "language": "python",
   "name": "python3"
  },
  "language_info": {
   "codemirror_mode": {
    "name": "ipython",
    "version": 3
   },
   "file_extension": ".py",
   "mimetype": "text/x-python",
   "name": "python",
   "nbconvert_exporter": "python",
   "pygments_lexer": "ipython3",
   "version": "3.9.13"
  }
 },
 "nbformat": 4,
 "nbformat_minor": 5
}
