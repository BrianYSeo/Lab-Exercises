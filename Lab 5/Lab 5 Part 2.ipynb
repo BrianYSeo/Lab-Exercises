{
 "cells": [
  {
   "cell_type": "code",
   "execution_count": 1,
   "id": "77d5a811",
   "metadata": {},
   "outputs": [],
   "source": [
    "from selenium import webdriver\n",
    "from selenium.webdriver.chrome.service import Service\n",
    "\n",
    "from selenium.webdriver.common.keys import Keys\n",
    "from selenium.webdriver.common.by import By\n",
    "\n",
    "from selenium.webdriver.support.ui import WebDriverWait\n",
    "from selenium.webdriver.support import expected_conditions as EC\n",
    "\n",
    "import csv"
   ]
  },
  {
   "cell_type": "code",
   "execution_count": 5,
   "id": "0caff29d",
   "metadata": {},
   "outputs": [],
   "source": [
    "PATH = Service(\"/Users/brianseo/Downloads/chromedriver.exe\")\n",
    "driver = webdriver.Chrome(service=PATH)\n",
    "\n",
    "driver.get(\"https://data.gov/\")\n",
    "\n",
    "data_button = driver.find_element(By.XPATH,\"//*[@id='menu-primary-navigation']/li[1]/a\")\n",
    "data_button.click()\n",
    "\n",
    "search = driver.find_element(By.XPATH,\"//*[@id='search-header']\")\n",
    "search.clear()\n",
    "search.send_keys(\"climate change\")\n",
    "search.send_keys(Keys.RETURN)\n",
    "\n",
    "driver.implicitly_wait(10)\n",
    "\n",
    "results = []\n",
    "while True:\n",
    "    titles = driver.find_elements(By.XPATH,\"//*[@id='content']/div[2]/div/section[1]/div[2]/ul/li/div/h3/a\")\n",
    "    descriptions = driver.find_elements(By.XPATH,\"//*[@id='content']/div[2]/div/section[1]/div[2]/ul/li/div/div[2]\")\n",
    "\n",
    "    for i in range(len(titles)):\n",
    "        title = titles[i].text\n",
    "        description = descriptions[i].text\n",
    "        results.append([title, description])\n",
    "     \n",
    "    next_button = driver.find_elements(By.XPATH, \"//*[@id='content']/div[2]/div/section[1]/nav/ul/li[@class='next']/a\")\n",
    "    if len(next_button) == 0:\n",
    "        break\n",
    "    else:\n",
    "        next_button[0].click()\n",
    "        driver.implicitly_wait(10)\n",
    "\n",
    "with open('climate_change_results.csv', 'w', newline='') as csvfile:\n",
    "    writer = csv.writer(csvfile)\n",
    "    writer.writerow(['Title', 'Description'])\n",
    "    for result in results:\n",
    "        writer.writerow(result)\n",
    "        \n",
    "driver.quit()"
   ]
  },
  {
   "cell_type": "code",
   "execution_count": null,
   "id": "48bab7a9",
   "metadata": {},
   "outputs": [],
   "source": []
  }
 ],
 "metadata": {
  "kernelspec": {
   "display_name": "Python 3 (ipykernel)",
   "language": "python",
   "name": "python3"
  },
  "language_info": {
   "codemirror_mode": {
    "name": "ipython",
    "version": 3
   },
   "file_extension": ".py",
   "mimetype": "text/x-python",
   "name": "python",
   "nbconvert_exporter": "python",
   "pygments_lexer": "ipython3",
   "version": "3.9.13"
  }
 },
 "nbformat": 4,
 "nbformat_minor": 5
}
