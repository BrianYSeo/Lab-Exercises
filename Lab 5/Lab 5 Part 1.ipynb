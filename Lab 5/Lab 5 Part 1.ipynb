{
 "cells": [
  {
   "cell_type": "code",
   "execution_count": 4,
   "id": "bad10e98",
   "metadata": {},
   "outputs": [],
   "source": [
    "from selenium import webdriver\n",
    "from selenium.webdriver.chrome.service import Service\n",
    "\n",
    "from selenium.webdriver.common.keys import Keys\n",
    "from selenium.webdriver.common.by import By\n",
    "\n",
    "from selenium.webdriver.support.ui import WebDriverWait\n",
    "from selenium.webdriver.support import expected_conditions as EC"
   ]
  },
  {
   "cell_type": "code",
   "execution_count": null,
   "id": "dd962e1d",
   "metadata": {},
   "outputs": [],
   "source": [
    "PATH = Service(\"/Users/brianseo/Downloads/chromedriver.exe\")\n",
    "driver = webdriver.Chrome(service=PATH)\n",
    "\n",
    "driver.get(\"https://techwithtim.net\")\n",
    "\n",
    "link = driver.find_element(By.LINK_TEXT,'Python Programming')\n",
    "link.click()\n",
    "\n",
    "try:\n",
    "    element = WebDriverWait(driver, 10).until(   #Selenium waits for up to 10 seconds for an element matching the given criteria to be found \n",
    "        EC.presence_of_element_located((By.LINK_TEXT, \"Beginner Python Tutorials\")) #predefined condition to use with WebDriverWait\n",
    "    )\n",
    "    element.click()   #simulates a mouse click on an element\n",
    "    \n",
    "    element = WebDriverWait(driver, 10).until( \n",
    "        EC.presence_of_element_located((By.ID, \"sow-button-19310003\"))\n",
    "    )\n",
    "    element.click()\n",
    "    \n",
    "    driver.back()\n",
    "    driver.back()\n",
    "    driver.back()\n",
    "    driver.forward()\n",
    "    driver.forward()\n",
    "    \n",
    "except:\n",
    "    driver.click()"
   ]
  },
  {
   "cell_type": "code",
   "execution_count": null,
   "id": "9d3f437d",
   "metadata": {},
   "outputs": [],
   "source": []
  }
 ],
 "metadata": {
  "kernelspec": {
   "display_name": "Python 3 (ipykernel)",
   "language": "python",
   "name": "python3"
  },
  "language_info": {
   "codemirror_mode": {
    "name": "ipython",
    "version": 3
   },
   "file_extension": ".py",
   "mimetype": "text/x-python",
   "name": "python",
   "nbconvert_exporter": "python",
   "pygments_lexer": "ipython3",
   "version": "3.9.13"
  }
 },
 "nbformat": 4,
 "nbformat_minor": 5
}
