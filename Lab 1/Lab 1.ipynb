{
 "cells": [
  {
   "cell_type": "code",
   "execution_count": 1,
   "id": "67034b7d",
   "metadata": {},
   "outputs": [
    {
     "name": "stdout",
     "output_type": "stream",
     "text": [
      "The longest word in the list is: chestnut\n"
     ]
    }
   ],
   "source": [
    "# https://www.geeksforgeeks.org/python-program-to-return-the-length-of-the-longest-word-from-the-list-of-words/\n",
    "\n",
    "def longestword(words):\n",
    "    res = max(words,key = len)\n",
    "    print(\"The longest word in the list is:\", res)\n",
    "\n",
    "list = [\"apple\", \"chestnut\", \"gargoyle\", \"pandas\", \"sheep\", \"raptor\"]\n",
    "longestword(list)"
   ]
  },
  {
   "cell_type": "code",
   "execution_count": 2,
   "id": "ba1f5274",
   "metadata": {
    "scrolled": true
   },
   "outputs": [
    {
     "name": "stdout",
     "output_type": "stream",
     "text": [
      "['GRIMOIRE', 'OVERGALLS', 'MATROCLINOUS', 'REPREHENDERS', 'ALIZARI', 'COMITADJIS', 'SCHIZOGENESIS']\n",
      "The longest word in the list is: SCHIZOGENESIS\n"
     ]
    }
   ],
   "source": [
    "# https://stackoverflow.com/questions/32773275/pulling-a-random-word-string-from-a-line-in-a-text-file-in-python\n",
    "\n",
    "import random\n",
    "sowpods = \"sowpods.txt\"\n",
    "\n",
    "random7 = []\n",
    "def word_generator():\n",
    "    filename = sowpods\n",
    "    f = open(filename, \"r\", encoding=\"utf8\")\n",
    "    words = f.readlines()\n",
    "    random7.append(random.choice(words).strip())\n",
    "    f.close()\n",
    "\n",
    "def longestword(words):\n",
    "    res = max(words,key = len)\n",
    "    print(\"The longest word in the list is:\", res)\n",
    "\n",
    "\n",
    "for x in range (7):\n",
    "    word_generator()\n",
    "\n",
    "\n",
    "print(random7)\n",
    "longestword(random7)\n",
    "\n",
    "\n",
    "\n",
    "\n",
    "\n"
   ]
  },
  {
   "cell_type": "code",
   "execution_count": 3,
   "id": "01a10f01",
   "metadata": {},
   "outputs": [
    {
     "name": "stdout",
     "output_type": "stream",
     "text": [
      "names of vegetables: dict_keys(['lettuce', 'pepper', 'onion', 'corn'])\n",
      "prices: dict_values([0.5, 0.25, 0.75, 1.0])\n",
      "vegetables and prices: dict_items([('lettuce', 0.5), ('pepper', 0.25), ('onion', 0.75), ('corn', 1.0)])\n",
      "price of lettuce: 0.5\n"
     ]
    }
   ],
   "source": [
    "vegetables = {'lettuce': 0.5, 'pepper': 0.25, 'onion': 0.75, 'corn': 1.0}\n",
    "\n",
    "keys = vegetables.keys()\n",
    "print(\"names of vegetables:\", keys)\n",
    "\n",
    "values = vegetables.values()\n",
    "print(\"prices:\", values)\n",
    "\n",
    "items = vegetables.items()\n",
    "print(\"vegetables and prices:\", items)\n",
    "\n",
    "price = vegetables.get('lettuce')\n",
    "print(\"price of lettuce:\", price)"
   ]
  },
  {
   "cell_type": "code",
   "execution_count": 4,
   "id": "53928fd1",
   "metadata": {},
   "outputs": [
    {
     "name": "stdout",
     "output_type": "stream",
     "text": [
      "Brian Seo, Sophomore\n",
      "[90, 69, 77, 85, 96]\n",
      "83.4\n"
     ]
    }
   ],
   "source": [
    "class Student: # define student class to store information\n",
    "    def __init__(self, name, year, grades): # initialize instance variables to store the student's name, year, and grades\n",
    "        self.name = name\n",
    "        self.year = year\n",
    "        self.grades = grades\n",
    "    \n",
    "    def get_info(self): # return a string of the student's information\n",
    "        return self.name + \", \" + self.year\n",
    "    \n",
    "    def get_grades(self): # return a string of the student's grades\n",
    "        return self.grades\n",
    "    \n",
    "    def calculate_gpa(self): # calculate the student's GPA and then return\n",
    "        total = sum(self.grades)\n",
    "        gpa = total / len(self.grades)\n",
    "        return gpa\n",
    "    \n",
    "    def display_record(self): # display the student's information, grades, and GPA\n",
    "        personal_info = self.get_info()\n",
    "        grades = self.get_grades()\n",
    "        gpa = self.calculate_gpa()\n",
    "        print(personal_info)\n",
    "        print(grades)\n",
    "        return gpa\n",
    "        \n",
    "        \n",
    "\n",
    "student = Student(\"Brian Seo\", \"Sophomore\", [90, 69, 77, 85, 96]) # create an instance of the Student class\n",
    "\n",
    "print(student.display_record())\n"
   ]
  },
  {
   "cell_type": "code",
   "execution_count": null,
   "id": "33f570e3",
   "metadata": {},
   "outputs": [
    {
     "name": "stdout",
     "output_type": "stream",
     "text": [
      "_____\n",
      "guess a letter:a\n",
      "a____\n",
      "guess a letter:p\n",
      "app__\n",
      "guess a letter:l\n",
      "appl_\n",
      "guess a letter:r\n",
      "Incorrect\n",
      "You have 14 guesses remaining\n",
      "appl_\n",
      "guess a letter:e\n",
      "apple\n",
      "You win\n",
      "\n"
     ]
    }
   ],
   "source": [
    "# https://www.pythonforbeginners.com/code-snippets-source-code/game-hangman\n",
    "\n",
    "ans = (\"apple\")\n",
    "guesses = \"\"\n",
    "tries = 15\n",
    "\n",
    "while tries > 0:         \n",
    "    failed = 0             \n",
    "  \n",
    "    for letter in ans:      \n",
    "        if letter in guesses:    \n",
    "            print (letter, end=\"\")\n",
    "\n",
    "        else:\n",
    "            print (\"_\",end=\"\")\n",
    "            failed += 1 \n",
    "            \n",
    "    if failed == 0: \n",
    "        print()\n",
    "        print (\"You win\") \n",
    "\n",
    "    print()\n",
    "    letter = input(\"guess a letter:\") \n",
    "    guesses += letter \n",
    "    \n",
    "    \n",
    "        \n",
    "    if letter not in ans:  \n",
    "        tries -= 1   \n",
    "        \n",
    "        print (\"Incorrect\")  \n",
    "        print (\"You have\", + tries, 'guesses remaining')\n",
    "        if tries == 0:           \n",
    "            print (\"You Lose\")\n",
    "    \n",
    "   \n",
    "\n",
    "# I refreshed while loops by learning how to build this game"
   ]
  },
  {
   "cell_type": "code",
   "execution_count": null,
   "id": "8ca842af",
   "metadata": {},
   "outputs": [],
   "source": []
  }
 ],
 "metadata": {
  "kernelspec": {
   "display_name": "Python 3 (ipykernel)",
   "language": "python",
   "name": "python3"
  },
  "language_info": {
   "codemirror_mode": {
    "name": "ipython",
    "version": 3
   },
   "file_extension": ".py",
   "mimetype": "text/x-python",
   "name": "python",
   "nbconvert_exporter": "python",
   "pygments_lexer": "ipython3",
   "version": "3.9.13"
  }
 },
 "nbformat": 4,
 "nbformat_minor": 5
}
