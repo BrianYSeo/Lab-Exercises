{
 "cells": [
  {
   "cell_type": "code",
   "execution_count": 1,
   "id": "cb34d93c",
   "metadata": {},
   "outputs": [],
   "source": [
    "import tkinter as tk\n",
    "import requests"
   ]
  },
  {
   "cell_type": "code",
   "execution_count": 4,
   "id": "616c5f51",
   "metadata": {},
   "outputs": [],
   "source": [
    "\n",
    "root = tk.Tk()\n",
    "root.title(\"7 Day Forecast\")\n",
    "\n",
    "text_box = tk.Text(root, wrap=\"word\", height=10, width=50)\n",
    "text_box.pack(side=\"left\", fill=\"both\", expand=True)\n",
    "\n",
    "scrollbar = tk.Scrollbar(root, command=text_box.yview) #one widget we haven't used: scrollbar\n",
    "scrollbar.pack(side=\"right\", fill=\"y\")\n",
    "text_box.config(yscrollcommand=scrollbar.set)\n",
    "\n",
    "\n",
    "def get_forecast():\n",
    "    text_box.delete(1.0, tk.END)\n",
    "    r = requests.get(\"https://api.weather.gov\")\n",
    "    data = r.json()\n",
    "    forecast = data[\"forecast\"]\n",
    "    text_box.insert(tk.END, forecast)\n",
    "\n",
    "get_forecast_button = tk.Button(root, text=\"Get Forecast\", command=get_forecast)\n",
    "get_forecast_button.pack()\n",
    "\n",
    "root.mainloop()\n"
   ]
  },
  {
   "cell_type": "code",
   "execution_count": null,
   "id": "80710acb",
   "metadata": {},
   "outputs": [],
   "source": []
  }
 ],
 "metadata": {
  "kernelspec": {
   "display_name": "Python 3 (ipykernel)",
   "language": "python",
   "name": "python3"
  },
  "language_info": {
   "codemirror_mode": {
    "name": "ipython",
    "version": 3
   },
   "file_extension": ".py",
   "mimetype": "text/x-python",
   "name": "python",
   "nbconvert_exporter": "python",
   "pygments_lexer": "ipython3",
   "version": "3.9.13"
  }
 },
 "nbformat": 4,
 "nbformat_minor": 5
}
