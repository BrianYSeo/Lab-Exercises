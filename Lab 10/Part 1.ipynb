{
 "cells": [
  {
   "cell_type": "code",
   "execution_count": 21,
   "id": "7ad7c25d",
   "metadata": {},
   "outputs": [],
   "source": [
    "import requests\n",
    "from tkinter import *\n",
    "import json"
   ]
  },
  {
   "cell_type": "code",
   "execution_count": 23,
   "id": "35788ece",
   "metadata": {},
   "outputs": [
    {
     "ename": "TypeError",
     "evalue": "string indices must be integers",
     "output_type": "error",
     "traceback": [
      "\u001b[0;31m---------------------------------------------------------------------------\u001b[0m",
      "\u001b[0;31mTypeError\u001b[0m                                 Traceback (most recent call last)",
      "\u001b[0;32m/var/folders/y3/hq6c0kzj6mv5_7px9f9ztl8r0000gn/T/ipykernel_4694/3875940636.py\u001b[0m in \u001b[0;36m<module>\u001b[0;34m\u001b[0m\n\u001b[1;32m     71\u001b[0m \u001b[0;34m\u001b[0m\u001b[0m\n\u001b[1;32m     72\u001b[0m \u001b[0;31m# Update dropdown menu on start\u001b[0m\u001b[0;34m\u001b[0m\u001b[0;34m\u001b[0m\u001b[0m\n\u001b[0;32m---> 73\u001b[0;31m \u001b[0mupdate_dropdown\u001b[0m\u001b[0;34m(\u001b[0m\u001b[0;34m)\u001b[0m\u001b[0;34m\u001b[0m\u001b[0;34m\u001b[0m\u001b[0m\n\u001b[0m\u001b[1;32m     74\u001b[0m \u001b[0;34m\u001b[0m\u001b[0m\n\u001b[1;32m     75\u001b[0m \u001b[0mroot\u001b[0m\u001b[0;34m.\u001b[0m\u001b[0mmainloop\u001b[0m\u001b[0;34m(\u001b[0m\u001b[0;34m)\u001b[0m\u001b[0;34m\u001b[0m\u001b[0;34m\u001b[0m\u001b[0m\n",
      "\u001b[0;32m/var/folders/y3/hq6c0kzj6mv5_7px9f9ztl8r0000gn/T/ipykernel_4694/3875940636.py\u001b[0m in \u001b[0;36mupdate_dropdown\u001b[0;34m()\u001b[0m\n\u001b[1;32m     31\u001b[0m         \u001b[0mitem_list\u001b[0m \u001b[0;34m=\u001b[0m \u001b[0;34m[\u001b[0m\u001b[0;34m\"Select a Person\"\u001b[0m\u001b[0;34m]\u001b[0m\u001b[0;34m\u001b[0m\u001b[0;34m\u001b[0m\u001b[0m\n\u001b[1;32m     32\u001b[0m         \u001b[0;32mfor\u001b[0m \u001b[0mperson\u001b[0m \u001b[0;32min\u001b[0m \u001b[0mpeople\u001b[0m\u001b[0;34m:\u001b[0m\u001b[0;34m\u001b[0m\u001b[0;34m\u001b[0m\u001b[0m\n\u001b[0;32m---> 33\u001b[0;31m             \u001b[0mprint\u001b[0m\u001b[0;34m(\u001b[0m\u001b[0mperson\u001b[0m\u001b[0;34m[\u001b[0m\u001b[0;34m\"author\"\u001b[0m\u001b[0;34m]\u001b[0m\u001b[0;34m)\u001b[0m\u001b[0;34m\u001b[0m\u001b[0;34m\u001b[0m\u001b[0m\n\u001b[0m\u001b[1;32m     34\u001b[0m             \u001b[0;31m#item_list.append(person[\"author\"])\u001b[0m\u001b[0;34m\u001b[0m\u001b[0;34m\u001b[0m\u001b[0m\n\u001b[1;32m     35\u001b[0m         \u001b[0mvalue\u001b[0m\u001b[0;34m.\u001b[0m\u001b[0mset\u001b[0m\u001b[0;34m(\u001b[0m\u001b[0;34m\"Select a Person\"\u001b[0m\u001b[0;34m)\u001b[0m\u001b[0;34m\u001b[0m\u001b[0;34m\u001b[0m\u001b[0m\n",
      "\u001b[0;31mTypeError\u001b[0m: string indices must be integers"
     ]
    }
   ],
   "source": [
    "root = Tk()\n",
    "root.title(\"Random Quote Generator\")\n",
    "root.geometry(\"400x400\")\n",
    "\n",
    "def fetch_random_people():\n",
    "    response = requests.get(\"https://api.quotable.io/random?count=5\")\n",
    "    if response.status_code == 200:\n",
    "        people = json.loads(response.content)\n",
    "        return people\n",
    "    else:\n",
    "        return None\n",
    "\n",
    "def fetch_quotes():\n",
    "    selected_person = value.get()\n",
    "    if selected_person != \"Select a Person\":\n",
    "        response = requests.get(f\"https://api.quotable.io/quotes?author={selected_person}\")\n",
    "        if response.status_code == 200:\n",
    "            quotes = json.loads(response.content)\n",
    "            return quotes\n",
    "        else:\n",
    "            return None\n",
    "    else:\n",
    "        return None\n",
    "\n",
    "def update_dropdown():\n",
    "    people = fetch_random_people()\n",
    "    if people:\n",
    "        item_list = [\"Select a Person\"]\n",
    "        for person in people:\n",
    "            item_list.append(person[\"author\"])\n",
    "        value.set(\"Select a Person\")\n",
    "        dropdown[\"menu\"].delete(0, END)\n",
    "        for person in item_list:\n",
    "            dropdown[\"menu\"].add_command(label=person, command=lambda value=person: value.set(value))\n",
    "\n",
    "\n",
    "def get_quote():\n",
    "    quotes = fetch_quotes()\n",
    "    if quotes:\n",
    "        quote = random.choice(quotes)\n",
    "        result_label.config(text=quote[\"content\"])\n",
    "    else:\n",
    "        result_label.config(text=\"Failed to fetch quote.\")\n",
    "\n",
    "def reset():\n",
    "    dropdown[\"menu\"].delete(0, END)\n",
    "    value.set(\"Select a Person\")\n",
    "    result_label.config(text=\"\")\n",
    "\n",
    "\n",
    "value = StringVar()\n",
    "value.set(\"Select a Person\")\n",
    "dropdown = OptionMenu(root, value, \"Select a Person\")\n",
    "dropdown.pack()\n",
    "\n",
    "\n",
    "get_quote_button = Button(root, text=\"Get Quote\", command=get_quote)\n",
    "get_quote_button.pack()\n",
    "\n",
    "reset_button = Button(root, text=\"Reset\", command=reset)\n",
    "reset_button.pack()\n",
    "\n",
    "\n",
    "result_label = Label(root, wraplength=350, justify=CENTER)\n",
    "result_label.pack()\n",
    "\n",
    "\n",
    "update_dropdown()\n",
    "\n",
    "root.mainloop()\n"
   ]
  },
  {
   "cell_type": "code",
   "execution_count": null,
   "id": "92e16913",
   "metadata": {},
   "outputs": [],
   "source": []
  }
 ],
 "metadata": {
  "kernelspec": {
   "display_name": "Python 3 (ipykernel)",
   "language": "python",
   "name": "python3"
  },
  "language_info": {
   "codemirror_mode": {
    "name": "ipython",
    "version": 3
   },
   "file_extension": ".py",
   "mimetype": "text/x-python",
   "name": "python",
   "nbconvert_exporter": "python",
   "pygments_lexer": "ipython3",
   "version": "3.9.13"
  }
 },
 "nbformat": 4,
 "nbformat_minor": 5
}
