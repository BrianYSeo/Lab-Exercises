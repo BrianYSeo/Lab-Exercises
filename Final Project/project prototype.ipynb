{
 "cells": [
  {
   "cell_type": "code",
   "execution_count": 4,
   "id": "7a84479c",
   "metadata": {},
   "outputs": [],
   "source": [
    "import random\n",
    "import spotipy\n",
    "from spotipy.oauth2 import SpotifyOAuth"
   ]
  },
  {
   "cell_type": "code",
   "execution_count": 5,
   "id": "ee61fa0c",
   "metadata": {},
   "outputs": [],
   "source": [
    "SPOTIPY_CLIENT_ID = \"dea2513de64b4cc5bac82f87532c47ef\" \n",
    "SPOTIPY_CLIENT_SECRET = \"e0097f1ec8b144c5bf20d33bfbfd0bfa\"\n",
    "SPOTIPY_REDIRECT_URI = \"http://localhost3000\"\n",
    "code = \"AQDsJypTNSxvuq4OZkyMcIVn_7hq8ixskP2fV_159JcvELOh2WeuvLApPp2yvvFS-q17wDSFZbF1IJ8vtCczwkFk9gOGt-7P8Tjnq3TEG0PeIwaw5rgeOQ0gb90FGF0sRWIxniOgN5Ke1jnqfl1E3JtBqJI6XfrVrJBvmDp6QTTnjgyQOIfzpj8FCg\""
   ]
  },
  {
   "cell_type": "code",
   "execution_count": 6,
   "id": "095054a6",
   "metadata": {},
   "outputs": [
    {
     "name": "stdout",
     "output_type": "stream",
     "text": [
      "playlist created\n"
     ]
    }
   ],
   "source": [
    "def Make_Kanye_Playlist():\n",
    "    scope = \"playlist-modify-public\"\n",
    "    sp = spotipy.Spotify(auth_manager=SpotifyOAuth(SPOTIPY_CLIENT_ID, SPOTIPY_CLIENT_SECRET, SPOTIPY_REDIRECT_URI, scope=scope))\n",
    "    num_tracks = 10\n",
    "    playlist_name = 'Random Kanye West Playlist'\n",
    "\n",
    "    random_tracks = get_random_kanye_tracks(num_tracks)\n",
    "    playlist_id = create_playlist(playlist_name)\n",
    "    track_ids = [track['id'] for track in random_tracks]\n",
    "    add_tracks_to_playlist(playlist_id, track_ids)\n",
    "\n",
    "def get_random_kanye_tracks(num_tracks):\n",
    "    results = sp.search(q='artist:kanye', type='track', limit=50)\n",
    "    tracks = results['tracks']['items']\n",
    "    random_tracks = random.sample(tracks, num_tracks)\n",
    "    return random_tracks\n",
    "\n",
    "def create_playlist(name):\n",
    "    user_id = sp.me()['id']\n",
    "    playlist = sp.user_playlist_create(user_id, name)\n",
    "    return playlist['id']\n",
    "\n",
    "def add_tracks_to_playlist(playlist_id, track_ids):\n",
    "    sp.user_playlist_add_tracks(sp.me()['id'], playlist_id, track_ids)\n",
    "\n",
    "\n",
    "def Read_Playlist():\n",
    "    scope = \"user-library-read\"\n",
    "    sp = spotipy.Spotify(auth_manager=SpotifyOAuth(SPOTIPY_CLIENT_ID, SPOTIPY_CLIENT_SECRET, SPOTIPY_REDIRECT_URI, scope=scope))\n",
    "\n",
    "    results = sp.current_user_saved_tracks()\n",
    "    for idx, item in enumerate(results['items']):\n",
    "        track = item['track']\n",
    "        print(idx, track['artists'][0]['name'], \" – \", track['name'])\n",
    "        \n",
    "\n",
    "scope = \"playlist-modify-public\"\n",
    "sp = spotipy.Spotify(auth_manager=SpotifyOAuth(SPOTIPY_CLIENT_ID, SPOTIPY_CLIENT_SECRET, SPOTIPY_REDIRECT_URI, scope=scope))\n",
    "num_tracks = 10\n",
    "playlist_name = 'Random Kanye West Playlist'\n",
    "\n",
    "random_tracks = get_random_kanye_tracks(num_tracks)\n",
    "playlist_id = create_playlist(playlist_name)\n",
    "track_ids = [track['id'] for track in random_tracks]\n",
    "add_tracks_to_playlist(playlist_id, track_ids)\n",
    "\n",
    "print(\"playlist created\")"
   ]
  },
  {
   "cell_type": "code",
   "execution_count": 7,
   "id": "86ffa91e",
   "metadata": {},
   "outputs": [
    {
     "name": "stdout",
     "output_type": "stream",
     "text": [
      "Enter the URL you were redirected to: http://localhost3000/?code=AQCnOZj_PM4Ip3vZ2bxWFFxAh8oW99hm9wK9v_t4pUqEgaBvRAnd4a4Nkae5r-nZJ4CKsrRecGwg18AehUK8nCD9Ozp82og5D5pGwRTkhiliCZqZT8I7r44jH5PZZpOF3SFo-99G-NjyfPR7y5CPaIdbJ_b79KT5jr36BXLMvK6-LqrwztJz8sm1DA\n",
      "I Love It (& Lil Pump) - Kanye West\n",
      "Champions - Kanye West\n",
      "Off The Grid - Kanye West\n",
      "Good Morning - Kanye West\n",
      "Homecoming - Kanye West\n",
      "I Wonder - Kanye West\n",
      "Dark Fantasy - Kanye West\n",
      "Saint Pablo - Kanye West\n",
      "Don't Like.1 - Kanye West\n",
      "Stronger - Kanye West\n"
     ]
    }
   ],
   "source": [
    "def read_playlist_tracks(playlist_id):\n",
    "    scope = \"user-library-read\"\n",
    "    sp = spotipy.Spotify(auth_manager=SpotifyOAuth(SPOTIPY_CLIENT_ID, SPOTIPY_CLIENT_SECRET, SPOTIPY_REDIRECT_URI, scope=scope))\n",
    "    tracks = sp.playlist_tracks(playlist_id, fields='items(track(name, artists(name)))')['items']\n",
    "    for track in tracks:\n",
    "        name = track['track']['name']\n",
    "        artist = track['track']['artists'][0]['name']\n",
    "        print(f'{name} - {artist}')\n",
    "\n",
    "\n",
    "kanye_playlist_id = \"4OF8c6X2dIGk6mKpe9fATL\"\n",
    "\n",
    "read_playlist_tracks(kanye_playlist_id)\n"
   ]
  },
  {
   "cell_type": "code",
   "execution_count": null,
   "id": "b50a8ac8",
   "metadata": {},
   "outputs": [],
   "source": []
  }
 ],
 "metadata": {
  "kernelspec": {
   "display_name": "Python 3 (ipykernel)",
   "language": "python",
   "name": "python3"
  },
  "language_info": {
   "codemirror_mode": {
    "name": "ipython",
    "version": 3
   },
   "file_extension": ".py",
   "mimetype": "text/x-python",
   "name": "python",
   "nbconvert_exporter": "python",
   "pygments_lexer": "ipython3",
   "version": "3.9.13"
  }
 },
 "nbformat": 4,
 "nbformat_minor": 5
}
